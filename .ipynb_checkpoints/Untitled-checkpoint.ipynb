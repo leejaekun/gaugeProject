{
 "cells": [
  {
   "cell_type": "markdown",
   "id": "8cfeea7c",
   "metadata": {},
   "source": [
    "# gaugeProgect"
   ]
  },
  {
   "cell_type": "markdown",
   "id": "18243264",
   "metadata": {},
   "source": [
    "2022.02.09. 유투브 채널에 설명이 잘 나와 있음. 확인 예정. \n",
    "\n",
    "https://youtu.be/5WHnlRQcUy4"
   ]
  },
  {
   "cell_type": "markdown",
   "id": "a4cf1057",
   "metadata": {},
   "source": [
    "2022.02.08. gauge 폴더에서 1개의 게이지는 나오는데 2개의 게이지를 만들고 싶은데... 잘 안됨. 시간이 걸릴듯..."
   ]
  }
 ],
 "metadata": {
  "kernelspec": {
   "display_name": "Python 3 (ipykernel)",
   "language": "python",
   "name": "python3"
  },
  "language_info": {
   "codemirror_mode": {
    "name": "ipython",
    "version": 3
   },
   "file_extension": ".py",
   "mimetype": "text/x-python",
   "name": "python",
   "nbconvert_exporter": "python",
   "pygments_lexer": "ipython3",
   "version": "3.8.2"
  }
 },
 "nbformat": 4,
 "nbformat_minor": 5
}
